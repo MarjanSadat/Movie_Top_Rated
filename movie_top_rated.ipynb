{
 "cells": [
  {
   "cell_type": "code",
   "execution_count": 1,
   "id": "268153fb-35d6-4e64-ab27-38eb4a91762f",
   "metadata": {},
   "outputs": [],
   "source": [
    "import warnings\n",
    "warnings.filterwarnings(action='ignore')"
   ]
  },
  {
   "cell_type": "code",
   "execution_count": 2,
   "id": "c711de58-6002-451c-94f1-741bca140b2e",
   "metadata": {},
   "outputs": [],
   "source": [
    "import pandas as pd\n",
    "import numpy as np\n",
    "import requests"
   ]
  },
  {
   "cell_type": "markdown",
   "id": "71967e6c-a280-4ef1-a552-434ba9762595",
   "metadata": {},
   "source": [
    "# Create DataFrame"
   ]
  },
  {
   "cell_type": "code",
   "execution_count": 3,
   "id": "a7d67a26-6d55-40df-a06b-4c5dcb2bf7ed",
   "metadata": {},
   "outputs": [],
   "source": [
    "response = requests.get('https://api.themoviedb.org/3/movie/top_rated?api_key=8265bd1679663a7ea12ac168da84d2e8&language=en-US&page=1')"
   ]
  },
  {
   "cell_type": "code",
   "execution_count": 4,
   "id": "d329781b-7f8b-4928-b828-20982ec9eea9",
   "metadata": {},
   "outputs": [
    {
     "data": {
      "text/plain": [
       "<Response [200]>"
      ]
     },
     "execution_count": 4,
     "metadata": {},
     "output_type": "execute_result"
    }
   ],
   "source": [
    "response"
   ]
  },
  {
   "cell_type": "code",
   "execution_count": null,
   "id": "c4ce9ca6-8919-44db-b066-f0a1fd1c352f",
   "metadata": {},
   "outputs": [],
   "source": [
    "response.json()"
   ]
  },
  {
   "cell_type": "code",
   "execution_count": 13,
   "id": "fa88b74b-8b33-47b3-b70c-ca7440d32852",
   "metadata": {},
   "outputs": [],
   "source": [
    "df = pd.DataFrame(response.json()['results'])[['id','title','overview','release_date','popularity','vote_average','vote_count']]"
   ]
  },
  {
   "cell_type": "code",
   "execution_count": 15,
   "id": "e01cb3e8-c7b2-415a-bc61-29b0838d7ca4",
   "metadata": {},
   "outputs": [
    {
     "data": {
      "text/html": [
       "<div>\n",
       "<style scoped>\n",
       "    .dataframe tbody tr th:only-of-type {\n",
       "        vertical-align: middle;\n",
       "    }\n",
       "\n",
       "    .dataframe tbody tr th {\n",
       "        vertical-align: top;\n",
       "    }\n",
       "\n",
       "    .dataframe thead th {\n",
       "        text-align: right;\n",
       "    }\n",
       "</style>\n",
       "<table border=\"1\" class=\"dataframe\">\n",
       "  <thead>\n",
       "    <tr style=\"text-align: right;\">\n",
       "      <th></th>\n",
       "      <th>id</th>\n",
       "      <th>title</th>\n",
       "      <th>overview</th>\n",
       "      <th>release_date</th>\n",
       "      <th>popularity</th>\n",
       "      <th>vote_average</th>\n",
       "      <th>vote_count</th>\n",
       "    </tr>\n",
       "  </thead>\n",
       "  <tbody>\n",
       "    <tr>\n",
       "      <th>0</th>\n",
       "      <td>238</td>\n",
       "      <td>The Godfather</td>\n",
       "      <td>Spanning the years 1945 to 1955, a chronicle o...</td>\n",
       "      <td>1972-03-14</td>\n",
       "      <td>132.488</td>\n",
       "      <td>8.7</td>\n",
       "      <td>18602</td>\n",
       "    </tr>\n",
       "    <tr>\n",
       "      <th>1</th>\n",
       "      <td>278</td>\n",
       "      <td>The Shawshank Redemption</td>\n",
       "      <td>Framed in the 1940s for the double murder of h...</td>\n",
       "      <td>1994-09-23</td>\n",
       "      <td>104.251</td>\n",
       "      <td>8.7</td>\n",
       "      <td>24560</td>\n",
       "    </tr>\n",
       "  </tbody>\n",
       "</table>\n",
       "</div>"
      ],
      "text/plain": [
       "    id                     title  \\\n",
       "0  238             The Godfather   \n",
       "1  278  The Shawshank Redemption   \n",
       "\n",
       "                                            overview release_date  popularity  \\\n",
       "0  Spanning the years 1945 to 1955, a chronicle o...   1972-03-14     132.488   \n",
       "1  Framed in the 1940s for the double murder of h...   1994-09-23     104.251   \n",
       "\n",
       "   vote_average  vote_count  \n",
       "0           8.7       18602  \n",
       "1           8.7       24560  "
      ]
     },
     "execution_count": 15,
     "metadata": {},
     "output_type": "execute_result"
    }
   ],
   "source": [
    "df.head(2)"
   ]
  },
  {
   "cell_type": "code",
   "execution_count": 17,
   "id": "7e3e7b1d-b62d-4ecc-a537-6ae348c5f9a7",
   "metadata": {},
   "outputs": [
    {
     "data": {
      "text/html": [
       "<div>\n",
       "<style scoped>\n",
       "    .dataframe tbody tr th:only-of-type {\n",
       "        vertical-align: middle;\n",
       "    }\n",
       "\n",
       "    .dataframe tbody tr th {\n",
       "        vertical-align: top;\n",
       "    }\n",
       "\n",
       "    .dataframe thead th {\n",
       "        text-align: right;\n",
       "    }\n",
       "</style>\n",
       "<table border=\"1\" class=\"dataframe\">\n",
       "  <thead>\n",
       "    <tr style=\"text-align: right;\">\n",
       "      <th></th>\n",
       "    </tr>\n",
       "  </thead>\n",
       "  <tbody>\n",
       "  </tbody>\n",
       "</table>\n",
       "</div>"
      ],
      "text/plain": [
       "Empty DataFrame\n",
       "Columns: []\n",
       "Index: []"
      ]
     },
     "execution_count": 17,
     "metadata": {},
     "output_type": "execute_result"
    }
   ],
   "source": [
    "df = pd.DataFrame()\n",
    "df"
   ]
  },
  {
   "cell_type": "code",
   "execution_count": 19,
   "id": "504f6bf2-1959-4e9f-9599-b055fac25c39",
   "metadata": {},
   "outputs": [],
   "source": [
    "for i in range(1,429):\n",
    "    response = requests.get('https://api.themoviedb.org/3/movie/top_rated?api_key=8265bd1679663a7ea12ac168da84d2e8&language=en-US&page={}'.format(i))\n",
    "    temp_df = pd.DataFrame(response.json()['results'])[['id','title','overview','release_date','popularity','vote_average','vote_count']]\n",
    "    df = df.append(temp_df,ignore_index=True)\n"
   ]
  },
  {
   "cell_type": "code",
   "execution_count": 20,
   "id": "c4276857-255c-4a51-93c9-beb6a5d1c58f",
   "metadata": {},
   "outputs": [
    {
     "data": {
      "text/html": [
       "<div>\n",
       "<style scoped>\n",
       "    .dataframe tbody tr th:only-of-type {\n",
       "        vertical-align: middle;\n",
       "    }\n",
       "\n",
       "    .dataframe tbody tr th {\n",
       "        vertical-align: top;\n",
       "    }\n",
       "\n",
       "    .dataframe thead th {\n",
       "        text-align: right;\n",
       "    }\n",
       "</style>\n",
       "<table border=\"1\" class=\"dataframe\">\n",
       "  <thead>\n",
       "    <tr style=\"text-align: right;\">\n",
       "      <th></th>\n",
       "      <th>id</th>\n",
       "      <th>title</th>\n",
       "      <th>overview</th>\n",
       "      <th>release_date</th>\n",
       "      <th>popularity</th>\n",
       "      <th>vote_average</th>\n",
       "      <th>vote_count</th>\n",
       "    </tr>\n",
       "  </thead>\n",
       "  <tbody>\n",
       "    <tr>\n",
       "      <th>0</th>\n",
       "      <td>238</td>\n",
       "      <td>The Godfather</td>\n",
       "      <td>Spanning the years 1945 to 1955, a chronicle o...</td>\n",
       "      <td>1972-03-14</td>\n",
       "      <td>132.488</td>\n",
       "      <td>8.7</td>\n",
       "      <td>18602</td>\n",
       "    </tr>\n",
       "    <tr>\n",
       "      <th>1</th>\n",
       "      <td>278</td>\n",
       "      <td>The Shawshank Redemption</td>\n",
       "      <td>Framed in the 1940s for the double murder of h...</td>\n",
       "      <td>1994-09-23</td>\n",
       "      <td>104.251</td>\n",
       "      <td>8.7</td>\n",
       "      <td>24560</td>\n",
       "    </tr>\n",
       "    <tr>\n",
       "      <th>2</th>\n",
       "      <td>240</td>\n",
       "      <td>The Godfather Part II</td>\n",
       "      <td>In the continuing saga of the Corleone crime f...</td>\n",
       "      <td>1974-12-20</td>\n",
       "      <td>65.488</td>\n",
       "      <td>8.6</td>\n",
       "      <td>11236</td>\n",
       "    </tr>\n",
       "    <tr>\n",
       "      <th>3</th>\n",
       "      <td>424</td>\n",
       "      <td>Schindler's List</td>\n",
       "      <td>The true story of how businessman Oskar Schind...</td>\n",
       "      <td>1993-12-15</td>\n",
       "      <td>88.117</td>\n",
       "      <td>8.6</td>\n",
       "      <td>14518</td>\n",
       "    </tr>\n",
       "    <tr>\n",
       "      <th>4</th>\n",
       "      <td>19404</td>\n",
       "      <td>Dilwale Dulhania Le Jayenge</td>\n",
       "      <td>Raj is a rich, carefree, happy-go-lucky second...</td>\n",
       "      <td>1995-10-20</td>\n",
       "      <td>25.025</td>\n",
       "      <td>8.6</td>\n",
       "      <td>4240</td>\n",
       "    </tr>\n",
       "  </tbody>\n",
       "</table>\n",
       "</div>"
      ],
      "text/plain": [
       "      id                        title  \\\n",
       "0    238                The Godfather   \n",
       "1    278     The Shawshank Redemption   \n",
       "2    240        The Godfather Part II   \n",
       "3    424             Schindler's List   \n",
       "4  19404  Dilwale Dulhania Le Jayenge   \n",
       "\n",
       "                                            overview release_date  popularity  \\\n",
       "0  Spanning the years 1945 to 1955, a chronicle o...   1972-03-14     132.488   \n",
       "1  Framed in the 1940s for the double murder of h...   1994-09-23     104.251   \n",
       "2  In the continuing saga of the Corleone crime f...   1974-12-20      65.488   \n",
       "3  The true story of how businessman Oskar Schind...   1993-12-15      88.117   \n",
       "4  Raj is a rich, carefree, happy-go-lucky second...   1995-10-20      25.025   \n",
       "\n",
       "   vote_average  vote_count  \n",
       "0           8.7       18602  \n",
       "1           8.7       24560  \n",
       "2           8.6       11236  \n",
       "3           8.6       14518  \n",
       "4           8.6        4240  "
      ]
     },
     "execution_count": 20,
     "metadata": {},
     "output_type": "execute_result"
    }
   ],
   "source": [
    "df.head()"
   ]
  },
  {
   "cell_type": "code",
   "execution_count": 21,
   "id": "5ea70918-ce5c-401a-a632-80108190de12",
   "metadata": {},
   "outputs": [
    {
     "data": {
      "text/plain": [
       "(18560, 7)"
      ]
     },
     "execution_count": 21,
     "metadata": {},
     "output_type": "execute_result"
    }
   ],
   "source": [
    "df.shape"
   ]
  },
  {
   "cell_type": "markdown",
   "id": "07f8312e-1895-4fbd-b927-63d273d8c2cf",
   "metadata": {},
   "source": [
    "# Data Cleaning"
   ]
  },
  {
   "cell_type": "code",
   "execution_count": 29,
   "id": "3d2f9ba4-db0a-43d0-ae0b-9bca87143e51",
   "metadata": {},
   "outputs": [
    {
     "data": {
      "text/plain": [
       "id              0\n",
       "title           0\n",
       "overview        0\n",
       "release_date    0\n",
       "popularity      0\n",
       "vote_average    0\n",
       "vote_count      0\n",
       "dtype: int64"
      ]
     },
     "execution_count": 29,
     "metadata": {},
     "output_type": "execute_result"
    }
   ],
   "source": [
    "df.isnull().sum()"
   ]
  },
  {
   "cell_type": "code",
   "execution_count": 26,
   "id": "1c477a8a-2e51-45b6-85c5-98a4c7badce8",
   "metadata": {},
   "outputs": [
    {
     "name": "stdout",
     "output_type": "stream",
     "text": [
      "<class 'pandas.core.frame.DataFrame'>\n",
      "RangeIndex: 18560 entries, 0 to 18559\n",
      "Data columns (total 7 columns):\n",
      " #   Column        Non-Null Count  Dtype  \n",
      "---  ------        --------------  -----  \n",
      " 0   id            18560 non-null  int64  \n",
      " 1   title         18560 non-null  object \n",
      " 2   overview      18560 non-null  object \n",
      " 3   release_date  18560 non-null  object \n",
      " 4   popularity    18560 non-null  float64\n",
      " 5   vote_average  18560 non-null  float64\n",
      " 6   vote_count    18560 non-null  int64  \n",
      "dtypes: float64(2), int64(2), object(3)\n",
      "memory usage: 1015.1+ KB\n"
     ]
    }
   ],
   "source": [
    "df.info()"
   ]
  },
  {
   "cell_type": "code",
   "execution_count": 27,
   "id": "214db1d0-1775-4ebf-bfb8-6e5a14967074",
   "metadata": {},
   "outputs": [],
   "source": [
    "df.to_csv('movies.csv')"
   ]
  },
  {
   "cell_type": "code",
   "execution_count": 28,
   "id": "1a0ac4d5-d4d8-4bb2-9d81-7552bbd3f812",
   "metadata": {},
   "outputs": [
    {
     "data": {
      "text/html": [
       "<div>\n",
       "<style scoped>\n",
       "    .dataframe tbody tr th:only-of-type {\n",
       "        vertical-align: middle;\n",
       "    }\n",
       "\n",
       "    .dataframe tbody tr th {\n",
       "        vertical-align: top;\n",
       "    }\n",
       "\n",
       "    .dataframe thead th {\n",
       "        text-align: right;\n",
       "    }\n",
       "</style>\n",
       "<table border=\"1\" class=\"dataframe\">\n",
       "  <thead>\n",
       "    <tr style=\"text-align: right;\">\n",
       "      <th></th>\n",
       "      <th>id</th>\n",
       "      <th>title</th>\n",
       "      <th>overview</th>\n",
       "      <th>release_date</th>\n",
       "      <th>popularity</th>\n",
       "      <th>vote_average</th>\n",
       "      <th>vote_count</th>\n",
       "    </tr>\n",
       "  </thead>\n",
       "  <tbody>\n",
       "    <tr>\n",
       "      <th>0</th>\n",
       "      <td>238</td>\n",
       "      <td>The Godfather</td>\n",
       "      <td>Spanning the years 1945 to 1955, a chronicle o...</td>\n",
       "      <td>1972-03-14</td>\n",
       "      <td>132.488</td>\n",
       "      <td>8.7</td>\n",
       "      <td>18602</td>\n",
       "    </tr>\n",
       "    <tr>\n",
       "      <th>1</th>\n",
       "      <td>278</td>\n",
       "      <td>The Shawshank Redemption</td>\n",
       "      <td>Framed in the 1940s for the double murder of h...</td>\n",
       "      <td>1994-09-23</td>\n",
       "      <td>104.251</td>\n",
       "      <td>8.7</td>\n",
       "      <td>24560</td>\n",
       "    </tr>\n",
       "    <tr>\n",
       "      <th>2</th>\n",
       "      <td>240</td>\n",
       "      <td>The Godfather Part II</td>\n",
       "      <td>In the continuing saga of the Corleone crime f...</td>\n",
       "      <td>1974-12-20</td>\n",
       "      <td>65.488</td>\n",
       "      <td>8.6</td>\n",
       "      <td>11236</td>\n",
       "    </tr>\n",
       "    <tr>\n",
       "      <th>3</th>\n",
       "      <td>424</td>\n",
       "      <td>Schindler's List</td>\n",
       "      <td>The true story of how businessman Oskar Schind...</td>\n",
       "      <td>1993-12-15</td>\n",
       "      <td>88.117</td>\n",
       "      <td>8.6</td>\n",
       "      <td>14518</td>\n",
       "    </tr>\n",
       "    <tr>\n",
       "      <th>4</th>\n",
       "      <td>19404</td>\n",
       "      <td>Dilwale Dulhania Le Jayenge</td>\n",
       "      <td>Raj is a rich, carefree, happy-go-lucky second...</td>\n",
       "      <td>1995-10-20</td>\n",
       "      <td>25.025</td>\n",
       "      <td>8.6</td>\n",
       "      <td>4240</td>\n",
       "    </tr>\n",
       "  </tbody>\n",
       "</table>\n",
       "</div>"
      ],
      "text/plain": [
       "      id                        title  \\\n",
       "0    238                The Godfather   \n",
       "1    278     The Shawshank Redemption   \n",
       "2    240        The Godfather Part II   \n",
       "3    424             Schindler's List   \n",
       "4  19404  Dilwale Dulhania Le Jayenge   \n",
       "\n",
       "                                            overview release_date  popularity  \\\n",
       "0  Spanning the years 1945 to 1955, a chronicle o...   1972-03-14     132.488   \n",
       "1  Framed in the 1940s for the double murder of h...   1994-09-23     104.251   \n",
       "2  In the continuing saga of the Corleone crime f...   1974-12-20      65.488   \n",
       "3  The true story of how businessman Oskar Schind...   1993-12-15      88.117   \n",
       "4  Raj is a rich, carefree, happy-go-lucky second...   1995-10-20      25.025   \n",
       "\n",
       "   vote_average  vote_count  \n",
       "0           8.7       18602  \n",
       "1           8.7       24560  \n",
       "2           8.6       11236  \n",
       "3           8.6       14518  \n",
       "4           8.6        4240  "
      ]
     },
     "execution_count": 28,
     "metadata": {},
     "output_type": "execute_result"
    }
   ],
   "source": [
    "df.head()"
   ]
  },
  {
   "cell_type": "code",
   "execution_count": 30,
   "id": "5d28e985-ab8d-48f1-9016-0734c0f88979",
   "metadata": {},
   "outputs": [
    {
     "data": {
      "text/plain": [
       "8560"
      ]
     },
     "execution_count": 30,
     "metadata": {},
     "output_type": "execute_result"
    }
   ],
   "source": [
    "df.duplicated().sum()"
   ]
  },
  {
   "cell_type": "code",
   "execution_count": 33,
   "id": "6feffd92-56c6-4144-ada5-fcc38ba1a87b",
   "metadata": {},
   "outputs": [],
   "source": [
    "df.drop_duplicates(keep='first', inplace=True)"
   ]
  },
  {
   "cell_type": "code",
   "execution_count": 34,
   "id": "7f1bd0a5-0879-4ea1-8f90-dfed84d996c2",
   "metadata": {},
   "outputs": [
    {
     "data": {
      "text/plain": [
       "0"
      ]
     },
     "execution_count": 34,
     "metadata": {},
     "output_type": "execute_result"
    }
   ],
   "source": [
    "df.duplicated().sum()"
   ]
  },
  {
   "cell_type": "code",
   "execution_count": 36,
   "id": "6c1a8a47-a16e-4c52-a61a-a758ea5e9108",
   "metadata": {},
   "outputs": [
    {
     "data": {
      "text/plain": [
       "(10000, 7)"
      ]
     },
     "execution_count": 36,
     "metadata": {},
     "output_type": "execute_result"
    }
   ],
   "source": [
    "df.shape"
   ]
  },
  {
   "cell_type": "code",
   "execution_count": 37,
   "id": "f09e3136-2fde-4a27-a762-fcc3e4159f72",
   "metadata": {},
   "outputs": [
    {
     "data": {
      "text/plain": [
       "'Spanning the years 1945 to 1955, a chronicle of the fictional Italian-American Corleone crime family. When organized crime family patriarch, Vito Corleone barely survives an attempt on his life, his youngest son, Michael steps in to take care of the would-be killers, launching a campaign of bloody revenge.'"
      ]
     },
     "execution_count": 37,
     "metadata": {},
     "output_type": "execute_result"
    }
   ],
   "source": [
    "df['overview'][0]"
   ]
  },
  {
   "cell_type": "code",
   "execution_count": 38,
   "id": "8be13930-4d92-4f17-b683-f776e34ed298",
   "metadata": {},
   "outputs": [
    {
     "data": {
      "text/plain": [
       "0       [Spanning, the, years, 1945, to, 1955,, a, chr...\n",
       "1       [Framed, in, the, 1940s, for, the, double, mur...\n",
       "2       [In, the, continuing, saga, of, the, Corleone,...\n",
       "3       [The, true, story, of, how, businessman, Oskar...\n",
       "4       [Raj, is, a, rich,, carefree,, happy-go-lucky,...\n",
       "                              ...                        \n",
       "9995    [Wendy, Darling,, a, young, girl, afraid, to, ...\n",
       "9996    [Katherine, Morrissey,, a, former, Christian, ...\n",
       "9997    [Marla, is, forced, to, abandon, her, carefull...\n",
       "9998    [The, tragic, death, of, a, beautiful, young, ...\n",
       "9999    [Deep, within, the, darkness, of, secluded, fo...\n",
       "Name: overview, Length: 10000, dtype: object"
      ]
     },
     "execution_count": 38,
     "metadata": {},
     "output_type": "execute_result"
    }
   ],
   "source": [
    "df['overview'].apply(lambda x: x.split())"
   ]
  },
  {
   "cell_type": "code",
   "execution_count": 39,
   "id": "1cfd1708-632c-4456-95bb-ef107b6db136",
   "metadata": {},
   "outputs": [],
   "source": [
    "df['overview'] = df['overview'].apply(lambda x: x.split())"
   ]
  },
  {
   "cell_type": "code",
   "execution_count": 40,
   "id": "da3acf84-defb-405c-995e-ff2c5e85c1b9",
   "metadata": {},
   "outputs": [
    {
     "data": {
      "text/html": [
       "<div>\n",
       "<style scoped>\n",
       "    .dataframe tbody tr th:only-of-type {\n",
       "        vertical-align: middle;\n",
       "    }\n",
       "\n",
       "    .dataframe tbody tr th {\n",
       "        vertical-align: top;\n",
       "    }\n",
       "\n",
       "    .dataframe thead th {\n",
       "        text-align: right;\n",
       "    }\n",
       "</style>\n",
       "<table border=\"1\" class=\"dataframe\">\n",
       "  <thead>\n",
       "    <tr style=\"text-align: right;\">\n",
       "      <th></th>\n",
       "      <th>id</th>\n",
       "      <th>title</th>\n",
       "      <th>overview</th>\n",
       "      <th>release_date</th>\n",
       "      <th>popularity</th>\n",
       "      <th>vote_average</th>\n",
       "      <th>vote_count</th>\n",
       "    </tr>\n",
       "  </thead>\n",
       "  <tbody>\n",
       "    <tr>\n",
       "      <th>0</th>\n",
       "      <td>238</td>\n",
       "      <td>The Godfather</td>\n",
       "      <td>[Spanning, the, years, 1945, to, 1955,, a, chr...</td>\n",
       "      <td>1972-03-14</td>\n",
       "      <td>132.488</td>\n",
       "      <td>8.7</td>\n",
       "      <td>18602</td>\n",
       "    </tr>\n",
       "    <tr>\n",
       "      <th>1</th>\n",
       "      <td>278</td>\n",
       "      <td>The Shawshank Redemption</td>\n",
       "      <td>[Framed, in, the, 1940s, for, the, double, mur...</td>\n",
       "      <td>1994-09-23</td>\n",
       "      <td>104.251</td>\n",
       "      <td>8.7</td>\n",
       "      <td>24560</td>\n",
       "    </tr>\n",
       "  </tbody>\n",
       "</table>\n",
       "</div>"
      ],
      "text/plain": [
       "    id                     title  \\\n",
       "0  238             The Godfather   \n",
       "1  278  The Shawshank Redemption   \n",
       "\n",
       "                                            overview release_date  popularity  \\\n",
       "0  [Spanning, the, years, 1945, to, 1955,, a, chr...   1972-03-14     132.488   \n",
       "1  [Framed, in, the, 1940s, for, the, double, mur...   1994-09-23     104.251   \n",
       "\n",
       "   vote_average  vote_count  \n",
       "0           8.7       18602  \n",
       "1           8.7       24560  "
      ]
     },
     "execution_count": 40,
     "metadata": {},
     "output_type": "execute_result"
    }
   ],
   "source": [
    "df.head(2)"
   ]
  },
  {
   "cell_type": "code",
   "execution_count": 42,
   "id": "9a771128-1668-4835-a431-ea5e0530e3ff",
   "metadata": {},
   "outputs": [],
   "source": [
    "new_df = df.copy()"
   ]
  },
  {
   "cell_type": "code",
   "execution_count": 43,
   "id": "be349e29-454d-4d03-a50a-dceb5710f9e7",
   "metadata": {},
   "outputs": [
    {
     "data": {
      "text/plain": [
       "0       Spanning the years 1945 to 1955, a chronicle o...\n",
       "1       Framed in the 1940s for the double murder of h...\n",
       "2       In the continuing saga of the Corleone crime f...\n",
       "3       The true story of how businessman Oskar Schind...\n",
       "4       Raj is a rich, carefree, happy-go-lucky second...\n",
       "                              ...                        \n",
       "9995    Wendy Darling, a young girl afraid to leave he...\n",
       "9996    Katherine Morrissey, a former Christian missio...\n",
       "9997    Marla is forced to abandon her carefully struc...\n",
       "9998    The tragic death of a beautiful young girl sta...\n",
       "9999    Deep within the darkness of secluded forest la...\n",
       "Name: overview, Length: 10000, dtype: object"
      ]
     },
     "execution_count": 43,
     "metadata": {},
     "output_type": "execute_result"
    }
   ],
   "source": [
    "new_df['overview'].apply(lambda x:' '.join(x)) "
   ]
  },
  {
   "cell_type": "code",
   "execution_count": 44,
   "id": "79ab58dd-9e8d-4c3e-885e-8117ea37bbed",
   "metadata": {},
   "outputs": [],
   "source": [
    "new_df['overview'] = new_df['overview'].apply(lambda x:' '.join(x)) "
   ]
  },
  {
   "cell_type": "code",
   "execution_count": 46,
   "id": "0fda2821-dad2-4356-83a8-09418bc7f774",
   "metadata": {},
   "outputs": [
    {
     "data": {
      "text/html": [
       "<div>\n",
       "<style scoped>\n",
       "    .dataframe tbody tr th:only-of-type {\n",
       "        vertical-align: middle;\n",
       "    }\n",
       "\n",
       "    .dataframe tbody tr th {\n",
       "        vertical-align: top;\n",
       "    }\n",
       "\n",
       "    .dataframe thead th {\n",
       "        text-align: right;\n",
       "    }\n",
       "</style>\n",
       "<table border=\"1\" class=\"dataframe\">\n",
       "  <thead>\n",
       "    <tr style=\"text-align: right;\">\n",
       "      <th></th>\n",
       "      <th>id</th>\n",
       "      <th>title</th>\n",
       "      <th>overview</th>\n",
       "      <th>release_date</th>\n",
       "      <th>popularity</th>\n",
       "      <th>vote_average</th>\n",
       "      <th>vote_count</th>\n",
       "    </tr>\n",
       "  </thead>\n",
       "  <tbody>\n",
       "    <tr>\n",
       "      <th>0</th>\n",
       "      <td>238</td>\n",
       "      <td>The Godfather</td>\n",
       "      <td>Spanning the years 1945 to 1955, a chronicle o...</td>\n",
       "      <td>1972-03-14</td>\n",
       "      <td>132.488</td>\n",
       "      <td>8.7</td>\n",
       "      <td>18602</td>\n",
       "    </tr>\n",
       "    <tr>\n",
       "      <th>1</th>\n",
       "      <td>278</td>\n",
       "      <td>The Shawshank Redemption</td>\n",
       "      <td>Framed in the 1940s for the double murder of h...</td>\n",
       "      <td>1994-09-23</td>\n",
       "      <td>104.251</td>\n",
       "      <td>8.7</td>\n",
       "      <td>24560</td>\n",
       "    </tr>\n",
       "  </tbody>\n",
       "</table>\n",
       "</div>"
      ],
      "text/plain": [
       "    id                     title  \\\n",
       "0  238             The Godfather   \n",
       "1  278  The Shawshank Redemption   \n",
       "\n",
       "                                            overview release_date  popularity  \\\n",
       "0  Spanning the years 1945 to 1955, a chronicle o...   1972-03-14     132.488   \n",
       "1  Framed in the 1940s for the double murder of h...   1994-09-23     104.251   \n",
       "\n",
       "   vote_average  vote_count  \n",
       "0           8.7       18602  \n",
       "1           8.7       24560  "
      ]
     },
     "execution_count": 46,
     "metadata": {},
     "output_type": "execute_result"
    }
   ],
   "source": [
    "new_df.head(2)"
   ]
  },
  {
   "cell_type": "code",
   "execution_count": 47,
   "id": "cd0393a8-41af-4f64-8145-6b8de8e57e11",
   "metadata": {},
   "outputs": [
    {
     "data": {
      "text/plain": [
       "0       spanning the years 1945 to 1955, a chronicle o...\n",
       "1       framed in the 1940s for the double murder of h...\n",
       "2       in the continuing saga of the corleone crime f...\n",
       "3       the true story of how businessman oskar schind...\n",
       "4       raj is a rich, carefree, happy-go-lucky second...\n",
       "                              ...                        \n",
       "9995    wendy darling, a young girl afraid to leave he...\n",
       "9996    katherine morrissey, a former christian missio...\n",
       "9997    marla is forced to abandon her carefully struc...\n",
       "9998    the tragic death of a beautiful young girl sta...\n",
       "9999    deep within the darkness of secluded forest la...\n",
       "Name: overview, Length: 10000, dtype: object"
      ]
     },
     "execution_count": 47,
     "metadata": {},
     "output_type": "execute_result"
    }
   ],
   "source": [
    "new_df['overview'].apply(lambda x: x.lower())"
   ]
  },
  {
   "cell_type": "code",
   "execution_count": 48,
   "id": "939d841e-c1cd-4b72-9313-712b2cbfb595",
   "metadata": {},
   "outputs": [],
   "source": [
    "new_df['overview'] = new_df['overview'].apply(lambda x: x.lower())"
   ]
  },
  {
   "cell_type": "code",
   "execution_count": 49,
   "id": "5120da05-eeb7-470f-8379-aa5db078eb8f",
   "metadata": {},
   "outputs": [
    {
     "data": {
      "text/plain": [
       "'spanning the years 1945 to 1955, a chronicle of the fictional italian-american corleone crime family. when organized crime family patriarch, vito corleone barely survives an attempt on his life, his youngest son, michael steps in to take care of the would-be killers, launching a campaign of bloody revenge.'"
      ]
     },
     "execution_count": 49,
     "metadata": {},
     "output_type": "execute_result"
    }
   ],
   "source": [
    "new_df['overview'][0]"
   ]
  },
  {
   "cell_type": "markdown",
   "id": "9845e36d-8bd8-4425-966a-fee6629756c8",
   "metadata": {},
   "source": [
    "# Creating Model"
   ]
  },
  {
   "cell_type": "code",
   "execution_count": 50,
   "id": "c0870152-4a54-4c43-9149-3cd4c0c15484",
   "metadata": {},
   "outputs": [],
   "source": [
    "from sklearn.feature_extraction.text import CountVectorizer\n",
    "cv = CountVectorizer(max_features=5000, stop_words='english')"
   ]
  },
  {
   "cell_type": "code",
   "execution_count": 51,
   "id": "cd3daa8f-1ce8-4b3e-9811-1c0a83528964",
   "metadata": {},
   "outputs": [
    {
     "data": {
      "text/plain": [
       "array([[0, 0, 0, ..., 0, 0, 0],\n",
       "       [0, 0, 0, ..., 0, 0, 0],\n",
       "       [0, 0, 0, ..., 0, 0, 0],\n",
       "       ...,\n",
       "       [0, 0, 0, ..., 0, 0, 0],\n",
       "       [0, 0, 0, ..., 0, 0, 0],\n",
       "       [0, 0, 0, ..., 0, 0, 0]])"
      ]
     },
     "execution_count": 51,
     "metadata": {},
     "output_type": "execute_result"
    }
   ],
   "source": [
    "cv.fit_transform(new_df['overview']).toarray()"
   ]
  },
  {
   "cell_type": "code",
   "execution_count": 52,
   "id": "12a2d95c-1dad-428e-b697-7f9dc23393a5",
   "metadata": {},
   "outputs": [
    {
     "data": {
      "text/plain": [
       "(10000, 5000)"
      ]
     },
     "execution_count": 52,
     "metadata": {},
     "output_type": "execute_result"
    }
   ],
   "source": [
    "cv.fit_transform(new_df['overview']).toarray().shape"
   ]
  },
  {
   "cell_type": "code",
   "execution_count": 53,
   "id": "ec5042d3-a8c7-4591-a0b4-94a044b0b598",
   "metadata": {},
   "outputs": [],
   "source": [
    "vectors = cv.fit_transform(new_df['overview']).toarray()"
   ]
  },
  {
   "cell_type": "code",
   "execution_count": 54,
   "id": "f8d2c7e1-9690-4b69-b13c-fdfa80160a93",
   "metadata": {},
   "outputs": [
    {
     "data": {
      "text/plain": [
       "array([[0, 0, 0, ..., 0, 0, 0],\n",
       "       [0, 0, 0, ..., 0, 0, 0],\n",
       "       [0, 0, 0, ..., 0, 0, 0],\n",
       "       ...,\n",
       "       [0, 0, 0, ..., 0, 0, 0],\n",
       "       [0, 0, 0, ..., 0, 0, 0],\n",
       "       [0, 0, 0, ..., 0, 0, 0]])"
      ]
     },
     "execution_count": 54,
     "metadata": {},
     "output_type": "execute_result"
    }
   ],
   "source": [
    "vectors"
   ]
  },
  {
   "cell_type": "code",
   "execution_count": 55,
   "id": "b9aaa867-e9b9-4c1f-9690-381341f24b49",
   "metadata": {},
   "outputs": [
    {
     "data": {
      "text/plain": [
       "array([0, 0, 0, ..., 0, 0, 0])"
      ]
     },
     "execution_count": 55,
     "metadata": {},
     "output_type": "execute_result"
    }
   ],
   "source": [
    "vectors[0]"
   ]
  },
  {
   "cell_type": "code",
   "execution_count": 61,
   "id": "24369153-20da-4a38-9665-978f59216128",
   "metadata": {},
   "outputs": [
    {
     "data": {
      "text/plain": [
       "array(['000', '10', '100', ..., 'zombies', 'zone', 'zoo'], dtype=object)"
      ]
     },
     "execution_count": 61,
     "metadata": {},
     "output_type": "execute_result"
    }
   ],
   "source": [
    "cv.get_feature_names_out()"
   ]
  },
  {
   "cell_type": "code",
   "execution_count": 57,
   "id": "55cb6aa7-51f8-4f99-99dd-696c909c9f0f",
   "metadata": {},
   "outputs": [
    {
     "data": {
      "text/plain": [
       "5000"
      ]
     },
     "execution_count": 57,
     "metadata": {},
     "output_type": "execute_result"
    }
   ],
   "source": [
    "len(cv.get_feature_names_out())"
   ]
  },
  {
   "cell_type": "code",
   "execution_count": null,
   "id": "4953cb01-c40a-4a96-b353-fe5acdd01868",
   "metadata": {},
   "outputs": [],
   "source": []
  }
 ],
 "metadata": {
  "kernelspec": {
   "display_name": "Python 3 (ipykernel)",
   "language": "python",
   "name": "python3"
  },
  "language_info": {
   "codemirror_mode": {
    "name": "ipython",
    "version": 3
   },
   "file_extension": ".py",
   "mimetype": "text/x-python",
   "name": "python",
   "nbconvert_exporter": "python",
   "pygments_lexer": "ipython3",
   "version": "3.11.0"
  }
 },
 "nbformat": 4,
 "nbformat_minor": 5
}
