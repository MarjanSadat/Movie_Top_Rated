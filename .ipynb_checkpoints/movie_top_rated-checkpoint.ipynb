{
 "cells": [
  {
   "cell_type": "code",
   "execution_count": 1,
   "id": "268153fb-35d6-4e64-ab27-38eb4a91762f",
   "metadata": {},
   "outputs": [],
   "source": [
    "import warnings\n",
    "warnings.filterwarnings(action='ignore')"
   ]
  },
  {
   "cell_type": "code",
   "execution_count": 2,
   "id": "c711de58-6002-451c-94f1-741bca140b2e",
   "metadata": {},
   "outputs": [],
   "source": [
    "import pandas as pd\n",
    "import numpy as np\n",
    "import requests"
   ]
  },
  {
   "cell_type": "markdown",
   "id": "71967e6c-a280-4ef1-a552-434ba9762595",
   "metadata": {},
   "source": [
    "# Create DataFrame"
   ]
  },
  {
   "cell_type": "code",
   "execution_count": 3,
   "id": "a7d67a26-6d55-40df-a06b-4c5dcb2bf7ed",
   "metadata": {},
   "outputs": [],
   "source": [
    "response = requests.get('https://api.themoviedb.org/3/movie/top_rated?api_key=8265bd1679663a7ea12ac168da84d2e8&language=en-US&page=1')"
   ]
  },
  {
   "cell_type": "code",
   "execution_count": 4,
   "id": "d329781b-7f8b-4928-b828-20982ec9eea9",
   "metadata": {},
   "outputs": [
    {
     "data": {
      "text/plain": [
       "<Response [200]>"
      ]
     },
     "execution_count": 4,
     "metadata": {},
     "output_type": "execute_result"
    }
   ],
   "source": [
    "response"
   ]
  },
  {
   "cell_type": "code",
   "execution_count": 5,
   "id": "c4ce9ca6-8919-44db-b066-f0a1fd1c352f",
   "metadata": {},
   "outputs": [
    {
     "data": {
      "text/plain": [
       "{'page': 1,\n",
       " 'results': [{'adult': False,\n",
       "   'backdrop_path': '/tmU7GeKVybMWFButWEGl2M4GeiP.jpg',\n",
       "   'genre_ids': [18, 80],\n",
       "   'id': 238,\n",
       "   'original_language': 'en',\n",
       "   'original_title': 'The Godfather',\n",
       "   'overview': 'Spanning the years 1945 to 1955, a chronicle of the fictional Italian-American Corleone crime family. When organized crime family patriarch, Vito Corleone barely survives an attempt on his life, his youngest son, Michael steps in to take care of the would-be killers, launching a campaign of bloody revenge.',\n",
       "   'popularity': 132.488,\n",
       "   'poster_path': '/3bhkrj58Vtu7enYsRolD1fZdja1.jpg',\n",
       "   'release_date': '1972-03-14',\n",
       "   'title': 'The Godfather',\n",
       "   'video': False,\n",
       "   'vote_average': 8.7,\n",
       "   'vote_count': 18602},\n",
       "  {'adult': False,\n",
       "   'backdrop_path': '/kXfqcdQKsToO0OUXHcrrNCHDBzO.jpg',\n",
       "   'genre_ids': [18, 80],\n",
       "   'id': 278,\n",
       "   'original_language': 'en',\n",
       "   'original_title': 'The Shawshank Redemption',\n",
       "   'overview': 'Framed in the 1940s for the double murder of his wife and her lover, upstanding banker Andy Dufresne begins a new life at the Shawshank prison, where he puts his accounting skills to work for an amoral warden. During his long stretch in prison, Dufresne comes to be admired by the other inmates -- including an older prisoner named Red -- for his integrity and unquenchable sense of hope.',\n",
       "   'popularity': 104.251,\n",
       "   'poster_path': '/lyQBXzOQSuE59IsHyhrp0qIiPAz.jpg',\n",
       "   'release_date': '1994-09-23',\n",
       "   'title': 'The Shawshank Redemption',\n",
       "   'video': False,\n",
       "   'vote_average': 8.7,\n",
       "   'vote_count': 24560},\n",
       "  {'adult': False,\n",
       "   'backdrop_path': '/poec6RqOKY9iSiIUmfyfPfiLtvB.jpg',\n",
       "   'genre_ids': [18, 80],\n",
       "   'id': 240,\n",
       "   'original_language': 'en',\n",
       "   'original_title': 'The Godfather Part II',\n",
       "   'overview': 'In the continuing saga of the Corleone crime family, a young Vito Corleone grows up in Sicily and in 1910s New York. In the 1950s, Michael Corleone attempts to expand the family business into Las Vegas, Hollywood and Cuba.',\n",
       "   'popularity': 65.488,\n",
       "   'poster_path': '/bMadFzhjy9T7R8J48QGq1ngWNAK.jpg',\n",
       "   'release_date': '1974-12-20',\n",
       "   'title': 'The Godfather Part II',\n",
       "   'video': False,\n",
       "   'vote_average': 8.6,\n",
       "   'vote_count': 11236},\n",
       "  {'adult': False,\n",
       "   'backdrop_path': '/zb6fM1CX41D9rF9hdgclu0peUmy.jpg',\n",
       "   'genre_ids': [18, 36, 10752],\n",
       "   'id': 424,\n",
       "   'original_language': 'en',\n",
       "   'original_title': \"Schindler's List\",\n",
       "   'overview': 'The true story of how businessman Oskar Schindler saved over a thousand Jewish lives from the Nazis while they worked as slaves in his factory during World War II.',\n",
       "   'popularity': 88.117,\n",
       "   'poster_path': '/sF1U4EUQS8YHUYjNl3pMGNIQyr0.jpg',\n",
       "   'release_date': '1993-12-15',\n",
       "   'title': \"Schindler's List\",\n",
       "   'video': False,\n",
       "   'vote_average': 8.6,\n",
       "   'vote_count': 14518},\n",
       "  {'adult': False,\n",
       "   'backdrop_path': '/vI3aUGTuRRdM7J78KIdW98LdxE5.jpg',\n",
       "   'genre_ids': [35, 18, 10749],\n",
       "   'id': 19404,\n",
       "   'original_language': 'hi',\n",
       "   'original_title': 'दिलवाले दुल्हनिया ले जायेंगे',\n",
       "   'overview': 'Raj is a rich, carefree, happy-go-lucky second generation NRI. Simran is the daughter of Chaudhary Baldev Singh, who in spite of being an NRI is very strict about adherence to Indian values. Simran has left for India to be married to her childhood fiancé. Raj leaves for India with a mission at his hands, to claim his lady love under the noses of her whole family. Thus begins a saga.',\n",
       "   'popularity': 25.025,\n",
       "   'poster_path': '/ktejodbcdCPXbMMdnpI9BUxW6O8.jpg',\n",
       "   'release_date': '1995-10-20',\n",
       "   'title': 'Dilwale Dulhania Le Jayenge',\n",
       "   'video': False,\n",
       "   'vote_average': 8.6,\n",
       "   'vote_count': 4240},\n",
       "  {'adult': False,\n",
       "   'backdrop_path': '/qqHQsStV6exghCM7zbObuYBiYxw.jpg',\n",
       "   'genre_ids': [18],\n",
       "   'id': 389,\n",
       "   'original_language': 'en',\n",
       "   'original_title': '12 Angry Men',\n",
       "   'overview': \"The defense and the prosecution have rested and the jury is filing into the jury room to decide if a young Spanish-American is guilty or innocent of murdering his father. What begins as an open and shut case soon becomes a mini-drama of each of the jurors' prejudices and preconceptions about the trial, the accused, and each other.\",\n",
       "   'popularity': 37.796,\n",
       "   'poster_path': '/ow3wq89wM8qd5X7hWKxiRfsFf9C.jpg',\n",
       "   'release_date': '1957-04-10',\n",
       "   'title': '12 Angry Men',\n",
       "   'video': False,\n",
       "   'vote_average': 8.5,\n",
       "   'vote_count': 7606},\n",
       "  {'adult': False,\n",
       "   'backdrop_path': '/Ab8mkHmkYADjU7wQiOkia9BzGvS.jpg',\n",
       "   'genre_ids': [16, 10751, 14],\n",
       "   'id': 129,\n",
       "   'original_language': 'ja',\n",
       "   'original_title': '千と千尋の神隠し',\n",
       "   'overview': 'A young girl, Chihiro, becomes trapped in a strange new world of spirits. When her parents undergo a mysterious transformation, she must call upon the courage she never knew she had to free her family.',\n",
       "   'popularity': 85.264,\n",
       "   'poster_path': '/39wmItIWsg5sZMyRUHLkWBcuVCM.jpg',\n",
       "   'release_date': '2001-07-20',\n",
       "   'title': 'Spirited Away',\n",
       "   'video': False,\n",
       "   'vote_average': 8.5,\n",
       "   'vote_count': 14842},\n",
       "  {'adult': False,\n",
       "   'backdrop_path': '/hiKmpZMGZsrkA3cdce8a7Dpos1j.jpg',\n",
       "   'genre_ids': [35, 53, 18],\n",
       "   'id': 496243,\n",
       "   'original_language': 'ko',\n",
       "   'original_title': '기생충',\n",
       "   'overview': \"All unemployed, Ki-taek's family takes peculiar interest in the wealthy and glamorous Parks for their livelihood until they get entangled in an unexpected incident.\",\n",
       "   'popularity': 73.041,\n",
       "   'poster_path': '/7IiTTgloJzvGI1TAYymCfbfl3vT.jpg',\n",
       "   'release_date': '2019-05-30',\n",
       "   'title': 'Parasite',\n",
       "   'video': False,\n",
       "   'vote_average': 8.5,\n",
       "   'vote_count': 16348},\n",
       "  {'adult': False,\n",
       "   'backdrop_path': '/dIWwZW7dJJtqC6CgWzYkNVKIUm8.jpg',\n",
       "   'genre_ids': [10749, 16, 18],\n",
       "   'id': 372058,\n",
       "   'original_language': 'ja',\n",
       "   'original_title': '君の名は。',\n",
       "   'overview': 'High schoolers Mitsuha and Taki are complete strangers living separate lives. But one night, they suddenly switch places. Mitsuha wakes up in Taki’s body, and he in hers. This bizarre occurrence continues to happen randomly, and the two must adjust their lives around each other.',\n",
       "   'popularity': 85.908,\n",
       "   'poster_path': '/q719jXXEzOoYaps6babgKnONONX.jpg',\n",
       "   'release_date': '2016-08-26',\n",
       "   'title': 'Your Name.',\n",
       "   'video': False,\n",
       "   'vote_average': 8.5,\n",
       "   'vote_count': 10243},\n",
       "  {'adult': False,\n",
       "   'backdrop_path': '/dqK9Hag1054tghRQSqLSfrkvQnA.jpg',\n",
       "   'genre_ids': [18, 28, 80, 53],\n",
       "   'id': 155,\n",
       "   'original_language': 'en',\n",
       "   'original_title': 'The Dark Knight',\n",
       "   'overview': 'Batman raises the stakes in his war on crime. With the help of Lt. Jim Gordon and District Attorney Harvey Dent, Batman sets out to dismantle the remaining criminal organizations that plague the streets. The partnership proves to be effective, but they soon find themselves prey to a reign of chaos unleashed by a rising criminal mastermind known to the terrified citizens of Gotham as the Joker.',\n",
       "   'popularity': 98.502,\n",
       "   'poster_path': '/qJ2tW6WMUDux911r6m7haRef0WH.jpg',\n",
       "   'release_date': '2008-07-14',\n",
       "   'title': 'The Dark Knight',\n",
       "   'video': False,\n",
       "   'vote_average': 8.5,\n",
       "   'vote_count': 30515},\n",
       "  {'adult': False,\n",
       "   'backdrop_path': '/l6hQWH9eDksNJNiXWYRkWqikOdu.jpg',\n",
       "   'genre_ids': [14, 18, 80],\n",
       "   'id': 497,\n",
       "   'original_language': 'en',\n",
       "   'original_title': 'The Green Mile',\n",
       "   'overview': \"A supernatural tale set on death row in a Southern prison, where gentle giant John Coffey possesses the mysterious power to heal people's ailments. When the cell block's head guard, Paul Edgecomb, recognizes Coffey's miraculous gift, he tries desperately to help stave off the condemned man's execution.\",\n",
       "   'popularity': 75.633,\n",
       "   'poster_path': '/8VG8fDNiy50H4FedGwdSVUPoaJe.jpg',\n",
       "   'release_date': '1999-12-10',\n",
       "   'title': 'The Green Mile',\n",
       "   'video': False,\n",
       "   'vote_average': 8.5,\n",
       "   'vote_count': 15872},\n",
       "  {'adult': False,\n",
       "   'backdrop_path': '/suaEOtk1N1sgg2MTM7oZd2cfVp3.jpg',\n",
       "   'genre_ids': [53, 80],\n",
       "   'id': 680,\n",
       "   'original_language': 'en',\n",
       "   'original_title': 'Pulp Fiction',\n",
       "   'overview': \"A burger-loving hit man, his philosophical partner, a drug-addled gangster's moll and a washed-up boxer converge in this sprawling, comedic crime caper. Their adventures unfurl in three stories that ingeniously trip back and forth in time.\",\n",
       "   'popularity': 65.473,\n",
       "   'poster_path': '/d5iIlFn5s0ImszYzBPb8JPIfbXD.jpg',\n",
       "   'release_date': '1994-09-10',\n",
       "   'title': 'Pulp Fiction',\n",
       "   'video': False,\n",
       "   'vote_average': 8.5,\n",
       "   'vote_count': 25805},\n",
       "  {'adult': False,\n",
       "   'backdrop_path': '/qdIMHd4sEfJSckfVJfKQvisL02a.jpg',\n",
       "   'genre_ids': [35, 18, 10749],\n",
       "   'id': 13,\n",
       "   'original_language': 'en',\n",
       "   'original_title': 'Forrest Gump',\n",
       "   'overview': 'A man with a low IQ has accomplished great things in his life and been present during significant historic events—in each case, far exceeding what anyone imagined he could do. But despite all he has achieved, his one true love eludes him.',\n",
       "   'popularity': 69.54,\n",
       "   'poster_path': '/arw2vcBveWOVZr6pxd9XTd1TdQa.jpg',\n",
       "   'release_date': '1994-06-23',\n",
       "   'title': 'Forrest Gump',\n",
       "   'video': False,\n",
       "   'vote_average': 8.5,\n",
       "   'vote_count': 25322},\n",
       "  {'adult': False,\n",
       "   'backdrop_path': '/2u7zbn8EudG6kLlBzUYqP8RyFU4.jpg',\n",
       "   'genre_ids': [12, 14, 28],\n",
       "   'id': 122,\n",
       "   'original_language': 'en',\n",
       "   'original_title': 'The Lord of the Rings: The Return of the King',\n",
       "   'overview': \"Aragorn is revealed as the heir to the ancient kings as he, Gandalf and the other members of the broken fellowship struggle to save Gondor from Sauron's forces. Meanwhile, Frodo and Sam take the ring closer to the heart of Mordor, the dark lord's realm.\",\n",
       "   'popularity': 110.326,\n",
       "   'poster_path': '/rCzpDGLbOoPwLjy3OAm5NUPOTrC.jpg',\n",
       "   'release_date': '2003-12-01',\n",
       "   'title': 'The Lord of the Rings: The Return of the King',\n",
       "   'video': False,\n",
       "   'vote_average': 8.5,\n",
       "   'vote_count': 22201},\n",
       "  {'adult': False,\n",
       "   'backdrop_path': '/eoCSp75lxatmIa6aGqfnzwtbttd.jpg',\n",
       "   'genre_ids': [37],\n",
       "   'id': 429,\n",
       "   'original_language': 'it',\n",
       "   'original_title': 'Il buono, il brutto, il cattivo',\n",
       "   'overview': 'While the Civil War rages on between the Union and the Confederacy, three men – a quiet loner, a ruthless hitman, and a Mexican bandit – comb the American Southwest in search of a strongbox containing $200,000 in stolen gold.',\n",
       "   'popularity': 59.616,\n",
       "   'poster_path': '/bX2xnavhMYjWDoZp1VM6VnU1xwe.jpg',\n",
       "   'release_date': '1966-12-23',\n",
       "   'title': 'The Good, the Bad and the Ugly',\n",
       "   'video': False,\n",
       "   'vote_average': 8.5,\n",
       "   'vote_count': 7709},\n",
       "  {'adult': False,\n",
       "   'backdrop_path': '/sw7mordbZxgITU877yTpZCud90M.jpg',\n",
       "   'genre_ids': [18, 80],\n",
       "   'id': 769,\n",
       "   'original_language': 'en',\n",
       "   'original_title': 'GoodFellas',\n",
       "   'overview': 'The true story of Henry Hill, a half-Irish, half-Sicilian Brooklyn kid who is adopted by neighbourhood gangsters at an early age and climbs the ranks of a Mafia family under the guidance of Jimmy Conway.',\n",
       "   'popularity': 55.424,\n",
       "   'poster_path': '/aKuFiU82s5ISJpGZp7YkIr3kCUd.jpg',\n",
       "   'release_date': '1990-09-12',\n",
       "   'title': 'GoodFellas',\n",
       "   'video': False,\n",
       "   'vote_average': 8.5,\n",
       "   'vote_count': 11671},\n",
       "  {'adult': False,\n",
       "   'backdrop_path': '/zoVeIgKzGJzpdG6Gwnr7iOYfIMU.jpg',\n",
       "   'genre_ids': [18, 10749],\n",
       "   'id': 11216,\n",
       "   'original_language': 'it',\n",
       "   'original_title': 'Nuovo Cinema Paradiso',\n",
       "   'overview': \"A filmmaker recalls his childhood, when he fell in love with the movies at his village's theater and formed a deep friendship with the theater's projectionist.\",\n",
       "   'popularity': 31.856,\n",
       "   'poster_path': '/8SRUfRUi6x4O68n0VCbDNRa6iGL.jpg',\n",
       "   'release_date': '1988-11-17',\n",
       "   'title': 'Cinema Paradiso',\n",
       "   'video': False,\n",
       "   'vote_average': 8.5,\n",
       "   'vote_count': 3930},\n",
       "  {'adult': False,\n",
       "   'backdrop_path': '/gavyCu1UaTaTNPsVaGXT6pe5u24.jpg',\n",
       "   'genre_ids': [35, 18],\n",
       "   'id': 637,\n",
       "   'original_language': 'it',\n",
       "   'original_title': 'La vita è bella',\n",
       "   'overview': 'A touching story of an Italian book seller of Jewish ancestry who lives in his own little fairy tale. His creative and happy life would come to an abrupt halt when his entire family is deported to a concentration camp during World War II. While locked up he tries to convince his son that the whole thing is just a game.',\n",
       "   'popularity': 50.009,\n",
       "   'poster_path': '/mfnkSeeVOBVheuyn2lo4tfmOPQb.jpg',\n",
       "   'release_date': '1997-12-20',\n",
       "   'title': 'Life Is Beautiful',\n",
       "   'video': False,\n",
       "   'vote_average': 8.5,\n",
       "   'vote_count': 12177},\n",
       "  {'adult': False,\n",
       "   'backdrop_path': '/qvZ91FwMq6O47VViAr8vZNQz3WI.jpg',\n",
       "   'genre_ids': [28, 18],\n",
       "   'id': 346,\n",
       "   'original_language': 'ja',\n",
       "   'original_title': '七人の侍',\n",
       "   'overview': \"A samurai answers a village's request for protection after he falls on hard times. The town needs protection from bandits, so the samurai gathers six others to help him teach the people how to defend themselves, and the villagers provide the soldiers with food.\",\n",
       "   'popularity': 29.819,\n",
       "   'poster_path': '/8OKmBV5BUFzmozIC3pPWKHy17kx.jpg',\n",
       "   'release_date': '1954-04-26',\n",
       "   'title': 'Seven Samurai',\n",
       "   'video': False,\n",
       "   'vote_average': 8.5,\n",
       "   'vote_count': 3202},\n",
       "  {'adult': False,\n",
       "   'backdrop_path': '/gwj4R8Uy1GwejKqfofREKI9Jh7L.jpg',\n",
       "   'genre_ids': [16, 18, 10752],\n",
       "   'id': 12477,\n",
       "   'original_language': 'ja',\n",
       "   'original_title': '火垂るの墓',\n",
       "   'overview': 'In the final months of World War II, 14-year-old Seita and his sister Setsuko are orphaned when their mother is killed during an air raid in Kobe, Japan. After a falling out with their aunt, they move into an abandoned bomb shelter. With no surviving relatives and their emergency rations depleted, Seita and Setsuko struggle to survive.',\n",
       "   'popularity': 0.6,\n",
       "   'poster_path': '/k9tv1rXZbOhH7eiCk378x61kNQ1.jpg',\n",
       "   'release_date': '1988-04-16',\n",
       "   'title': 'Grave of the Fireflies',\n",
       "   'video': False,\n",
       "   'vote_average': 8.5,\n",
       "   'vote_count': 4824}],\n",
       " 'total_pages': 574,\n",
       " 'total_results': 11465}"
      ]
     },
     "execution_count": 5,
     "metadata": {},
     "output_type": "execute_result"
    }
   ],
   "source": [
    "response.json()"
   ]
  },
  {
   "cell_type": "code",
   "execution_count": 6,
   "id": "fa88b74b-8b33-47b3-b70c-ca7440d32852",
   "metadata": {},
   "outputs": [],
   "source": [
    "df = pd.DataFrame(response.json()['results'])[['id','title','overview','release_date','popularity','vote_average','vote_count']]"
   ]
  },
  {
   "cell_type": "code",
   "execution_count": 7,
   "id": "e01cb3e8-c7b2-415a-bc61-29b0838d7ca4",
   "metadata": {},
   "outputs": [
    {
     "data": {
      "text/html": [
       "<div>\n",
       "<style scoped>\n",
       "    .dataframe tbody tr th:only-of-type {\n",
       "        vertical-align: middle;\n",
       "    }\n",
       "\n",
       "    .dataframe tbody tr th {\n",
       "        vertical-align: top;\n",
       "    }\n",
       "\n",
       "    .dataframe thead th {\n",
       "        text-align: right;\n",
       "    }\n",
       "</style>\n",
       "<table border=\"1\" class=\"dataframe\">\n",
       "  <thead>\n",
       "    <tr style=\"text-align: right;\">\n",
       "      <th></th>\n",
       "      <th>id</th>\n",
       "      <th>title</th>\n",
       "      <th>overview</th>\n",
       "      <th>release_date</th>\n",
       "      <th>popularity</th>\n",
       "      <th>vote_average</th>\n",
       "      <th>vote_count</th>\n",
       "    </tr>\n",
       "  </thead>\n",
       "  <tbody>\n",
       "    <tr>\n",
       "      <th>0</th>\n",
       "      <td>238</td>\n",
       "      <td>The Godfather</td>\n",
       "      <td>Spanning the years 1945 to 1955, a chronicle o...</td>\n",
       "      <td>1972-03-14</td>\n",
       "      <td>132.488</td>\n",
       "      <td>8.7</td>\n",
       "      <td>18602</td>\n",
       "    </tr>\n",
       "    <tr>\n",
       "      <th>1</th>\n",
       "      <td>278</td>\n",
       "      <td>The Shawshank Redemption</td>\n",
       "      <td>Framed in the 1940s for the double murder of h...</td>\n",
       "      <td>1994-09-23</td>\n",
       "      <td>104.251</td>\n",
       "      <td>8.7</td>\n",
       "      <td>24560</td>\n",
       "    </tr>\n",
       "  </tbody>\n",
       "</table>\n",
       "</div>"
      ],
      "text/plain": [
       "    id                     title  \\\n",
       "0  238             The Godfather   \n",
       "1  278  The Shawshank Redemption   \n",
       "\n",
       "                                            overview release_date  popularity  \\\n",
       "0  Spanning the years 1945 to 1955, a chronicle o...   1972-03-14     132.488   \n",
       "1  Framed in the 1940s for the double murder of h...   1994-09-23     104.251   \n",
       "\n",
       "   vote_average  vote_count  \n",
       "0           8.7       18602  \n",
       "1           8.7       24560  "
      ]
     },
     "execution_count": 7,
     "metadata": {},
     "output_type": "execute_result"
    }
   ],
   "source": [
    "df.head(2)"
   ]
  },
  {
   "cell_type": "code",
   "execution_count": 8,
   "id": "7e3e7b1d-b62d-4ecc-a537-6ae348c5f9a7",
   "metadata": {},
   "outputs": [
    {
     "data": {
      "text/html": [
       "<div>\n",
       "<style scoped>\n",
       "    .dataframe tbody tr th:only-of-type {\n",
       "        vertical-align: middle;\n",
       "    }\n",
       "\n",
       "    .dataframe tbody tr th {\n",
       "        vertical-align: top;\n",
       "    }\n",
       "\n",
       "    .dataframe thead th {\n",
       "        text-align: right;\n",
       "    }\n",
       "</style>\n",
       "<table border=\"1\" class=\"dataframe\">\n",
       "  <thead>\n",
       "    <tr style=\"text-align: right;\">\n",
       "      <th></th>\n",
       "    </tr>\n",
       "  </thead>\n",
       "  <tbody>\n",
       "  </tbody>\n",
       "</table>\n",
       "</div>"
      ],
      "text/plain": [
       "Empty DataFrame\n",
       "Columns: []\n",
       "Index: []"
      ]
     },
     "execution_count": 8,
     "metadata": {},
     "output_type": "execute_result"
    }
   ],
   "source": [
    "df = pd.DataFrame()\n",
    "df"
   ]
  },
  {
   "cell_type": "code",
   "execution_count": 9,
   "id": "504f6bf2-1959-4e9f-9599-b055fac25c39",
   "metadata": {},
   "outputs": [],
   "source": [
    "for i in range(1,429):\n",
    "    response = requests.get('https://api.themoviedb.org/3/movie/top_rated?api_key=8265bd1679663a7ea12ac168da84d2e8&language=en-US&page={}'.format(i))\n",
    "    temp_df = pd.DataFrame(response.json()['results'])[['id','title','overview','release_date','popularity','vote_average','vote_count']]\n",
    "    df = df.append(temp_df,ignore_index=True)\n"
   ]
  },
  {
   "cell_type": "code",
   "execution_count": 10,
   "id": "c4276857-255c-4a51-93c9-beb6a5d1c58f",
   "metadata": {},
   "outputs": [
    {
     "data": {
      "text/html": [
       "<div>\n",
       "<style scoped>\n",
       "    .dataframe tbody tr th:only-of-type {\n",
       "        vertical-align: middle;\n",
       "    }\n",
       "\n",
       "    .dataframe tbody tr th {\n",
       "        vertical-align: top;\n",
       "    }\n",
       "\n",
       "    .dataframe thead th {\n",
       "        text-align: right;\n",
       "    }\n",
       "</style>\n",
       "<table border=\"1\" class=\"dataframe\">\n",
       "  <thead>\n",
       "    <tr style=\"text-align: right;\">\n",
       "      <th></th>\n",
       "      <th>id</th>\n",
       "      <th>title</th>\n",
       "      <th>overview</th>\n",
       "      <th>release_date</th>\n",
       "      <th>popularity</th>\n",
       "      <th>vote_average</th>\n",
       "      <th>vote_count</th>\n",
       "    </tr>\n",
       "  </thead>\n",
       "  <tbody>\n",
       "    <tr>\n",
       "      <th>0</th>\n",
       "      <td>238</td>\n",
       "      <td>The Godfather</td>\n",
       "      <td>Spanning the years 1945 to 1955, a chronicle o...</td>\n",
       "      <td>1972-03-14</td>\n",
       "      <td>132.488</td>\n",
       "      <td>8.7</td>\n",
       "      <td>18602</td>\n",
       "    </tr>\n",
       "    <tr>\n",
       "      <th>1</th>\n",
       "      <td>278</td>\n",
       "      <td>The Shawshank Redemption</td>\n",
       "      <td>Framed in the 1940s for the double murder of h...</td>\n",
       "      <td>1994-09-23</td>\n",
       "      <td>104.251</td>\n",
       "      <td>8.7</td>\n",
       "      <td>24560</td>\n",
       "    </tr>\n",
       "    <tr>\n",
       "      <th>2</th>\n",
       "      <td>240</td>\n",
       "      <td>The Godfather Part II</td>\n",
       "      <td>In the continuing saga of the Corleone crime f...</td>\n",
       "      <td>1974-12-20</td>\n",
       "      <td>65.488</td>\n",
       "      <td>8.6</td>\n",
       "      <td>11236</td>\n",
       "    </tr>\n",
       "    <tr>\n",
       "      <th>3</th>\n",
       "      <td>424</td>\n",
       "      <td>Schindler's List</td>\n",
       "      <td>The true story of how businessman Oskar Schind...</td>\n",
       "      <td>1993-12-15</td>\n",
       "      <td>88.117</td>\n",
       "      <td>8.6</td>\n",
       "      <td>14518</td>\n",
       "    </tr>\n",
       "    <tr>\n",
       "      <th>4</th>\n",
       "      <td>19404</td>\n",
       "      <td>Dilwale Dulhania Le Jayenge</td>\n",
       "      <td>Raj is a rich, carefree, happy-go-lucky second...</td>\n",
       "      <td>1995-10-20</td>\n",
       "      <td>25.025</td>\n",
       "      <td>8.6</td>\n",
       "      <td>4240</td>\n",
       "    </tr>\n",
       "  </tbody>\n",
       "</table>\n",
       "</div>"
      ],
      "text/plain": [
       "      id                        title  \\\n",
       "0    238                The Godfather   \n",
       "1    278     The Shawshank Redemption   \n",
       "2    240        The Godfather Part II   \n",
       "3    424             Schindler's List   \n",
       "4  19404  Dilwale Dulhania Le Jayenge   \n",
       "\n",
       "                                            overview release_date  popularity  \\\n",
       "0  Spanning the years 1945 to 1955, a chronicle o...   1972-03-14     132.488   \n",
       "1  Framed in the 1940s for the double murder of h...   1994-09-23     104.251   \n",
       "2  In the continuing saga of the Corleone crime f...   1974-12-20      65.488   \n",
       "3  The true story of how businessman Oskar Schind...   1993-12-15      88.117   \n",
       "4  Raj is a rich, carefree, happy-go-lucky second...   1995-10-20      25.025   \n",
       "\n",
       "   vote_average  vote_count  \n",
       "0           8.7       18602  \n",
       "1           8.7       24560  \n",
       "2           8.6       11236  \n",
       "3           8.6       14518  \n",
       "4           8.6        4240  "
      ]
     },
     "execution_count": 10,
     "metadata": {},
     "output_type": "execute_result"
    }
   ],
   "source": [
    "df.head()"
   ]
  },
  {
   "cell_type": "code",
   "execution_count": 11,
   "id": "5ea70918-ce5c-401a-a632-80108190de12",
   "metadata": {},
   "outputs": [
    {
     "data": {
      "text/plain": [
       "(8560, 7)"
      ]
     },
     "execution_count": 11,
     "metadata": {},
     "output_type": "execute_result"
    }
   ],
   "source": [
    "df.shape"
   ]
  },
  {
   "cell_type": "markdown",
   "id": "07f8312e-1895-4fbd-b927-63d273d8c2cf",
   "metadata": {},
   "source": [
    "# Data Cleaning"
   ]
  },
  {
   "cell_type": "code",
   "execution_count": 12,
   "id": "3d2f9ba4-db0a-43d0-ae0b-9bca87143e51",
   "metadata": {},
   "outputs": [
    {
     "data": {
      "text/plain": [
       "id              0\n",
       "title           0\n",
       "overview        0\n",
       "release_date    0\n",
       "popularity      0\n",
       "vote_average    0\n",
       "vote_count      0\n",
       "dtype: int64"
      ]
     },
     "execution_count": 12,
     "metadata": {},
     "output_type": "execute_result"
    }
   ],
   "source": [
    "df.isnull().sum()"
   ]
  },
  {
   "cell_type": "code",
   "execution_count": 13,
   "id": "1c477a8a-2e51-45b6-85c5-98a4c7badce8",
   "metadata": {},
   "outputs": [
    {
     "name": "stdout",
     "output_type": "stream",
     "text": [
      "<class 'pandas.core.frame.DataFrame'>\n",
      "RangeIndex: 8560 entries, 0 to 8559\n",
      "Data columns (total 7 columns):\n",
      " #   Column        Non-Null Count  Dtype  \n",
      "---  ------        --------------  -----  \n",
      " 0   id            8560 non-null   int64  \n",
      " 1   title         8560 non-null   object \n",
      " 2   overview      8560 non-null   object \n",
      " 3   release_date  8560 non-null   object \n",
      " 4   popularity    8560 non-null   float64\n",
      " 5   vote_average  8560 non-null   float64\n",
      " 6   vote_count    8560 non-null   int64  \n",
      "dtypes: float64(2), int64(2), object(3)\n",
      "memory usage: 468.2+ KB\n"
     ]
    }
   ],
   "source": [
    "df.info()"
   ]
  },
  {
   "cell_type": "code",
   "execution_count": 14,
   "id": "214db1d0-1775-4ebf-bfb8-6e5a14967074",
   "metadata": {},
   "outputs": [],
   "source": [
    "df.to_csv('movies.csv')"
   ]
  },
  {
   "cell_type": "code",
   "execution_count": 15,
   "id": "1a0ac4d5-d4d8-4bb2-9d81-7552bbd3f812",
   "metadata": {},
   "outputs": [
    {
     "data": {
      "text/html": [
       "<div>\n",
       "<style scoped>\n",
       "    .dataframe tbody tr th:only-of-type {\n",
       "        vertical-align: middle;\n",
       "    }\n",
       "\n",
       "    .dataframe tbody tr th {\n",
       "        vertical-align: top;\n",
       "    }\n",
       "\n",
       "    .dataframe thead th {\n",
       "        text-align: right;\n",
       "    }\n",
       "</style>\n",
       "<table border=\"1\" class=\"dataframe\">\n",
       "  <thead>\n",
       "    <tr style=\"text-align: right;\">\n",
       "      <th></th>\n",
       "      <th>id</th>\n",
       "      <th>title</th>\n",
       "      <th>overview</th>\n",
       "      <th>release_date</th>\n",
       "      <th>popularity</th>\n",
       "      <th>vote_average</th>\n",
       "      <th>vote_count</th>\n",
       "    </tr>\n",
       "  </thead>\n",
       "  <tbody>\n",
       "    <tr>\n",
       "      <th>0</th>\n",
       "      <td>238</td>\n",
       "      <td>The Godfather</td>\n",
       "      <td>Spanning the years 1945 to 1955, a chronicle o...</td>\n",
       "      <td>1972-03-14</td>\n",
       "      <td>132.488</td>\n",
       "      <td>8.7</td>\n",
       "      <td>18602</td>\n",
       "    </tr>\n",
       "    <tr>\n",
       "      <th>1</th>\n",
       "      <td>278</td>\n",
       "      <td>The Shawshank Redemption</td>\n",
       "      <td>Framed in the 1940s for the double murder of h...</td>\n",
       "      <td>1994-09-23</td>\n",
       "      <td>104.251</td>\n",
       "      <td>8.7</td>\n",
       "      <td>24560</td>\n",
       "    </tr>\n",
       "    <tr>\n",
       "      <th>2</th>\n",
       "      <td>240</td>\n",
       "      <td>The Godfather Part II</td>\n",
       "      <td>In the continuing saga of the Corleone crime f...</td>\n",
       "      <td>1974-12-20</td>\n",
       "      <td>65.488</td>\n",
       "      <td>8.6</td>\n",
       "      <td>11236</td>\n",
       "    </tr>\n",
       "    <tr>\n",
       "      <th>3</th>\n",
       "      <td>424</td>\n",
       "      <td>Schindler's List</td>\n",
       "      <td>The true story of how businessman Oskar Schind...</td>\n",
       "      <td>1993-12-15</td>\n",
       "      <td>88.117</td>\n",
       "      <td>8.6</td>\n",
       "      <td>14518</td>\n",
       "    </tr>\n",
       "    <tr>\n",
       "      <th>4</th>\n",
       "      <td>19404</td>\n",
       "      <td>Dilwale Dulhania Le Jayenge</td>\n",
       "      <td>Raj is a rich, carefree, happy-go-lucky second...</td>\n",
       "      <td>1995-10-20</td>\n",
       "      <td>25.025</td>\n",
       "      <td>8.6</td>\n",
       "      <td>4240</td>\n",
       "    </tr>\n",
       "  </tbody>\n",
       "</table>\n",
       "</div>"
      ],
      "text/plain": [
       "      id                        title  \\\n",
       "0    238                The Godfather   \n",
       "1    278     The Shawshank Redemption   \n",
       "2    240        The Godfather Part II   \n",
       "3    424             Schindler's List   \n",
       "4  19404  Dilwale Dulhania Le Jayenge   \n",
       "\n",
       "                                            overview release_date  popularity  \\\n",
       "0  Spanning the years 1945 to 1955, a chronicle o...   1972-03-14     132.488   \n",
       "1  Framed in the 1940s for the double murder of h...   1994-09-23     104.251   \n",
       "2  In the continuing saga of the Corleone crime f...   1974-12-20      65.488   \n",
       "3  The true story of how businessman Oskar Schind...   1993-12-15      88.117   \n",
       "4  Raj is a rich, carefree, happy-go-lucky second...   1995-10-20      25.025   \n",
       "\n",
       "   vote_average  vote_count  \n",
       "0           8.7       18602  \n",
       "1           8.7       24560  \n",
       "2           8.6       11236  \n",
       "3           8.6       14518  \n",
       "4           8.6        4240  "
      ]
     },
     "execution_count": 15,
     "metadata": {},
     "output_type": "execute_result"
    }
   ],
   "source": [
    "df.head()"
   ]
  },
  {
   "cell_type": "code",
   "execution_count": 16,
   "id": "5d28e985-ab8d-48f1-9016-0734c0f88979",
   "metadata": {},
   "outputs": [
    {
     "data": {
      "text/plain": [
       "0"
      ]
     },
     "execution_count": 16,
     "metadata": {},
     "output_type": "execute_result"
    }
   ],
   "source": [
    "df.duplicated().sum()"
   ]
  },
  {
   "cell_type": "code",
   "execution_count": 17,
   "id": "6feffd92-56c6-4144-ada5-fcc38ba1a87b",
   "metadata": {},
   "outputs": [],
   "source": [
    "df.drop_duplicates(keep='first', inplace=True)"
   ]
  },
  {
   "cell_type": "code",
   "execution_count": 18,
   "id": "7f1bd0a5-0879-4ea1-8f90-dfed84d996c2",
   "metadata": {},
   "outputs": [
    {
     "data": {
      "text/plain": [
       "0"
      ]
     },
     "execution_count": 18,
     "metadata": {},
     "output_type": "execute_result"
    }
   ],
   "source": [
    "df.duplicated().sum()"
   ]
  },
  {
   "cell_type": "code",
   "execution_count": 19,
   "id": "6c1a8a47-a16e-4c52-a61a-a758ea5e9108",
   "metadata": {},
   "outputs": [
    {
     "data": {
      "text/plain": [
       "(8560, 7)"
      ]
     },
     "execution_count": 19,
     "metadata": {},
     "output_type": "execute_result"
    }
   ],
   "source": [
    "df.shape"
   ]
  },
  {
   "cell_type": "code",
   "execution_count": 20,
   "id": "f09e3136-2fde-4a27-a762-fcc3e4159f72",
   "metadata": {},
   "outputs": [
    {
     "data": {
      "text/plain": [
       "'Spanning the years 1945 to 1955, a chronicle of the fictional Italian-American Corleone crime family. When organized crime family patriarch, Vito Corleone barely survives an attempt on his life, his youngest son, Michael steps in to take care of the would-be killers, launching a campaign of bloody revenge.'"
      ]
     },
     "execution_count": 20,
     "metadata": {},
     "output_type": "execute_result"
    }
   ],
   "source": [
    "df['overview'][0]"
   ]
  },
  {
   "cell_type": "code",
   "execution_count": 21,
   "id": "8be13930-4d92-4f17-b683-f776e34ed298",
   "metadata": {},
   "outputs": [
    {
     "data": {
      "text/plain": [
       "0       [Spanning, the, years, 1945, to, 1955,, a, chr...\n",
       "1       [Framed, in, the, 1940s, for, the, double, mur...\n",
       "2       [In, the, continuing, saga, of, the, Corleone,...\n",
       "3       [The, true, story, of, how, businessman, Oskar...\n",
       "4       [Raj, is, a, rich,, carefree,, happy-go-lucky,...\n",
       "                              ...                        \n",
       "8555    [The, Griswold, family, hits, the, road, again...\n",
       "8556    [Max, and, Page, are, a, brilliant, mother/dau...\n",
       "8557    [Once, upon, a, time..., in, the, far, away, k...\n",
       "8558    [Looking, for, an, escape, from, her, recurrin...\n",
       "8559    [After, waking, up, in, a, hospital, with, amn...\n",
       "Name: overview, Length: 8560, dtype: object"
      ]
     },
     "execution_count": 21,
     "metadata": {},
     "output_type": "execute_result"
    }
   ],
   "source": [
    "df['overview'].apply(lambda x: x.split())"
   ]
  },
  {
   "cell_type": "code",
   "execution_count": 22,
   "id": "1cfd1708-632c-4456-95bb-ef107b6db136",
   "metadata": {},
   "outputs": [],
   "source": [
    "df['overview'] = df['overview'].apply(lambda x: x.split())"
   ]
  },
  {
   "cell_type": "code",
   "execution_count": 23,
   "id": "da3acf84-defb-405c-995e-ff2c5e85c1b9",
   "metadata": {},
   "outputs": [
    {
     "data": {
      "text/html": [
       "<div>\n",
       "<style scoped>\n",
       "    .dataframe tbody tr th:only-of-type {\n",
       "        vertical-align: middle;\n",
       "    }\n",
       "\n",
       "    .dataframe tbody tr th {\n",
       "        vertical-align: top;\n",
       "    }\n",
       "\n",
       "    .dataframe thead th {\n",
       "        text-align: right;\n",
       "    }\n",
       "</style>\n",
       "<table border=\"1\" class=\"dataframe\">\n",
       "  <thead>\n",
       "    <tr style=\"text-align: right;\">\n",
       "      <th></th>\n",
       "      <th>id</th>\n",
       "      <th>title</th>\n",
       "      <th>overview</th>\n",
       "      <th>release_date</th>\n",
       "      <th>popularity</th>\n",
       "      <th>vote_average</th>\n",
       "      <th>vote_count</th>\n",
       "    </tr>\n",
       "  </thead>\n",
       "  <tbody>\n",
       "    <tr>\n",
       "      <th>0</th>\n",
       "      <td>238</td>\n",
       "      <td>The Godfather</td>\n",
       "      <td>[Spanning, the, years, 1945, to, 1955,, a, chr...</td>\n",
       "      <td>1972-03-14</td>\n",
       "      <td>132.488</td>\n",
       "      <td>8.7</td>\n",
       "      <td>18602</td>\n",
       "    </tr>\n",
       "    <tr>\n",
       "      <th>1</th>\n",
       "      <td>278</td>\n",
       "      <td>The Shawshank Redemption</td>\n",
       "      <td>[Framed, in, the, 1940s, for, the, double, mur...</td>\n",
       "      <td>1994-09-23</td>\n",
       "      <td>104.251</td>\n",
       "      <td>8.7</td>\n",
       "      <td>24560</td>\n",
       "    </tr>\n",
       "  </tbody>\n",
       "</table>\n",
       "</div>"
      ],
      "text/plain": [
       "    id                     title  \\\n",
       "0  238             The Godfather   \n",
       "1  278  The Shawshank Redemption   \n",
       "\n",
       "                                            overview release_date  popularity  \\\n",
       "0  [Spanning, the, years, 1945, to, 1955,, a, chr...   1972-03-14     132.488   \n",
       "1  [Framed, in, the, 1940s, for, the, double, mur...   1994-09-23     104.251   \n",
       "\n",
       "   vote_average  vote_count  \n",
       "0           8.7       18602  \n",
       "1           8.7       24560  "
      ]
     },
     "execution_count": 23,
     "metadata": {},
     "output_type": "execute_result"
    }
   ],
   "source": [
    "df.head(2)"
   ]
  },
  {
   "cell_type": "code",
   "execution_count": 24,
   "id": "9a771128-1668-4835-a431-ea5e0530e3ff",
   "metadata": {},
   "outputs": [],
   "source": [
    "new_df = df.copy()"
   ]
  },
  {
   "cell_type": "code",
   "execution_count": 25,
   "id": "be349e29-454d-4d03-a50a-dceb5710f9e7",
   "metadata": {},
   "outputs": [
    {
     "data": {
      "text/plain": [
       "0       Spanning the years 1945 to 1955, a chronicle o...\n",
       "1       Framed in the 1940s for the double murder of h...\n",
       "2       In the continuing saga of the Corleone crime f...\n",
       "3       The true story of how businessman Oskar Schind...\n",
       "4       Raj is a rich, carefree, happy-go-lucky second...\n",
       "                              ...                        \n",
       "8555    The Griswold family hits the road again for a ...\n",
       "8556    Max and Page are a brilliant mother/daughter c...\n",
       "8557    Once upon a time... in the far away kingdom of...\n",
       "8558    Looking for an escape from her recurring night...\n",
       "8559    After waking up in a hospital with amnesia, pr...\n",
       "Name: overview, Length: 8560, dtype: object"
      ]
     },
     "execution_count": 25,
     "metadata": {},
     "output_type": "execute_result"
    }
   ],
   "source": [
    "new_df['overview'].apply(lambda x:' '.join(x)) "
   ]
  },
  {
   "cell_type": "code",
   "execution_count": 26,
   "id": "79ab58dd-9e8d-4c3e-885e-8117ea37bbed",
   "metadata": {},
   "outputs": [],
   "source": [
    "new_df['overview'] = new_df['overview'].apply(lambda x:' '.join(x)) "
   ]
  },
  {
   "cell_type": "code",
   "execution_count": 27,
   "id": "0fda2821-dad2-4356-83a8-09418bc7f774",
   "metadata": {},
   "outputs": [
    {
     "data": {
      "text/html": [
       "<div>\n",
       "<style scoped>\n",
       "    .dataframe tbody tr th:only-of-type {\n",
       "        vertical-align: middle;\n",
       "    }\n",
       "\n",
       "    .dataframe tbody tr th {\n",
       "        vertical-align: top;\n",
       "    }\n",
       "\n",
       "    .dataframe thead th {\n",
       "        text-align: right;\n",
       "    }\n",
       "</style>\n",
       "<table border=\"1\" class=\"dataframe\">\n",
       "  <thead>\n",
       "    <tr style=\"text-align: right;\">\n",
       "      <th></th>\n",
       "      <th>id</th>\n",
       "      <th>title</th>\n",
       "      <th>overview</th>\n",
       "      <th>release_date</th>\n",
       "      <th>popularity</th>\n",
       "      <th>vote_average</th>\n",
       "      <th>vote_count</th>\n",
       "    </tr>\n",
       "  </thead>\n",
       "  <tbody>\n",
       "    <tr>\n",
       "      <th>0</th>\n",
       "      <td>238</td>\n",
       "      <td>The Godfather</td>\n",
       "      <td>Spanning the years 1945 to 1955, a chronicle o...</td>\n",
       "      <td>1972-03-14</td>\n",
       "      <td>132.488</td>\n",
       "      <td>8.7</td>\n",
       "      <td>18602</td>\n",
       "    </tr>\n",
       "    <tr>\n",
       "      <th>1</th>\n",
       "      <td>278</td>\n",
       "      <td>The Shawshank Redemption</td>\n",
       "      <td>Framed in the 1940s for the double murder of h...</td>\n",
       "      <td>1994-09-23</td>\n",
       "      <td>104.251</td>\n",
       "      <td>8.7</td>\n",
       "      <td>24560</td>\n",
       "    </tr>\n",
       "  </tbody>\n",
       "</table>\n",
       "</div>"
      ],
      "text/plain": [
       "    id                     title  \\\n",
       "0  238             The Godfather   \n",
       "1  278  The Shawshank Redemption   \n",
       "\n",
       "                                            overview release_date  popularity  \\\n",
       "0  Spanning the years 1945 to 1955, a chronicle o...   1972-03-14     132.488   \n",
       "1  Framed in the 1940s for the double murder of h...   1994-09-23     104.251   \n",
       "\n",
       "   vote_average  vote_count  \n",
       "0           8.7       18602  \n",
       "1           8.7       24560  "
      ]
     },
     "execution_count": 27,
     "metadata": {},
     "output_type": "execute_result"
    }
   ],
   "source": [
    "new_df.head(2)"
   ]
  },
  {
   "cell_type": "code",
   "execution_count": 28,
   "id": "cd0393a8-41af-4f64-8145-6b8de8e57e11",
   "metadata": {},
   "outputs": [
    {
     "data": {
      "text/plain": [
       "0       spanning the years 1945 to 1955, a chronicle o...\n",
       "1       framed in the 1940s for the double murder of h...\n",
       "2       in the continuing saga of the corleone crime f...\n",
       "3       the true story of how businessman oskar schind...\n",
       "4       raj is a rich, carefree, happy-go-lucky second...\n",
       "                              ...                        \n",
       "8555    the griswold family hits the road again for a ...\n",
       "8556    max and page are a brilliant mother/daughter c...\n",
       "8557    once upon a time... in the far away kingdom of...\n",
       "8558    looking for an escape from her recurring night...\n",
       "8559    after waking up in a hospital with amnesia, pr...\n",
       "Name: overview, Length: 8560, dtype: object"
      ]
     },
     "execution_count": 28,
     "metadata": {},
     "output_type": "execute_result"
    }
   ],
   "source": [
    "new_df['overview'].apply(lambda x: x.lower())"
   ]
  },
  {
   "cell_type": "code",
   "execution_count": 29,
   "id": "939d841e-c1cd-4b72-9313-712b2cbfb595",
   "metadata": {},
   "outputs": [],
   "source": [
    "new_df['overview'] = new_df['overview'].apply(lambda x: x.lower())"
   ]
  },
  {
   "cell_type": "code",
   "execution_count": 30,
   "id": "5120da05-eeb7-470f-8379-aa5db078eb8f",
   "metadata": {},
   "outputs": [
    {
     "data": {
      "text/plain": [
       "'spanning the years 1945 to 1955, a chronicle of the fictional italian-american corleone crime family. when organized crime family patriarch, vito corleone barely survives an attempt on his life, his youngest son, michael steps in to take care of the would-be killers, launching a campaign of bloody revenge.'"
      ]
     },
     "execution_count": 30,
     "metadata": {},
     "output_type": "execute_result"
    }
   ],
   "source": [
    "new_df['overview'][0]"
   ]
  },
  {
   "cell_type": "code",
   "execution_count": 31,
   "id": "081b4ad5-7e7c-40b7-9aa1-70f25745eb56",
   "metadata": {},
   "outputs": [],
   "source": [
    "import nltk"
   ]
  },
  {
   "cell_type": "code",
   "execution_count": 32,
   "id": "28f81065-240a-4d00-ba42-994db11c3991",
   "metadata": {},
   "outputs": [],
   "source": [
    "from nltk.stem.porter import PorterStemmer"
   ]
  },
  {
   "cell_type": "code",
   "execution_count": 33,
   "id": "da6b41a8-939f-427b-a7f0-f44bc7d93fc2",
   "metadata": {},
   "outputs": [],
   "source": [
    "ps = PorterStemmer()"
   ]
  },
  {
   "cell_type": "code",
   "execution_count": 34,
   "id": "cd2508db-a809-4cda-b05f-ed86e5c1ea6a",
   "metadata": {},
   "outputs": [],
   "source": [
    "def stem(text):\n",
    "    y = []\n",
    "    for i in text.split():\n",
    "        y.append(ps.stem(i))\n",
    "    return ' '.join(y)"
   ]
  },
  {
   "cell_type": "code",
   "execution_count": 35,
   "id": "742dbc9e-abc8-4650-92bf-5e7c11515896",
   "metadata": {},
   "outputs": [
    {
     "data": {
      "text/plain": [
       "'span the year 1945 to 1955, a chronicl of the fiction italian-american corleon crime family. when organ crime famili patriarch, vito corleon bare surviv an attempt on hi life, hi youngest son, michael step in to take care of the would-b killers, launch a campaign of bloodi revenge.'"
      ]
     },
     "execution_count": 35,
     "metadata": {},
     "output_type": "execute_result"
    }
   ],
   "source": [
    "stem(new_df['overview'][0])"
   ]
  },
  {
   "cell_type": "code",
   "execution_count": 36,
   "id": "428c3857-0d32-47f0-b392-3af0647bd4ad",
   "metadata": {},
   "outputs": [],
   "source": [
    "new_df['overview'] = new_df['overview'].apply(stem)"
   ]
  },
  {
   "cell_type": "code",
   "execution_count": 37,
   "id": "81fa3bcf-3aa9-4209-b168-fa5e43f094c7",
   "metadata": {},
   "outputs": [
    {
     "data": {
      "text/plain": [
       "0       span the year 1945 to 1955, a chronicl of the ...\n",
       "1       frame in the 1940 for the doubl murder of hi w...\n",
       "2       in the continu saga of the corleon crime famil...\n",
       "3       the true stori of how businessman oskar schind...\n",
       "4       raj is a rich, carefree, happy-go-lucki second...\n",
       "                              ...                        \n",
       "8555    the griswold famili hit the road again for a t...\n",
       "8556    max and page are a brilliant mother/daught con...\n",
       "8557    onc upon a time... in the far away kingdom of ...\n",
       "8558    look for an escap from her recur nightmares, 1...\n",
       "8559    after wake up in a hospit with amnesia, profes...\n",
       "Name: overview, Length: 8560, dtype: object"
      ]
     },
     "execution_count": 37,
     "metadata": {},
     "output_type": "execute_result"
    }
   ],
   "source": [
    "new_df['overview']"
   ]
  },
  {
   "cell_type": "markdown",
   "id": "9845e36d-8bd8-4425-966a-fee6629756c8",
   "metadata": {},
   "source": [
    "# Creating Model"
   ]
  },
  {
   "cell_type": "code",
   "execution_count": 38,
   "id": "c0870152-4a54-4c43-9149-3cd4c0c15484",
   "metadata": {},
   "outputs": [],
   "source": [
    "from sklearn.feature_extraction.text import CountVectorizer\n",
    "cv = CountVectorizer(max_features=5000, stop_words='english')"
   ]
  },
  {
   "cell_type": "code",
   "execution_count": 39,
   "id": "cd3daa8f-1ce8-4b3e-9811-1c0a83528964",
   "metadata": {},
   "outputs": [
    {
     "data": {
      "text/plain": [
       "array([[0, 0, 0, ..., 0, 0, 0],\n",
       "       [0, 0, 0, ..., 0, 0, 0],\n",
       "       [0, 0, 0, ..., 0, 0, 0],\n",
       "       ...,\n",
       "       [0, 0, 0, ..., 0, 0, 0],\n",
       "       [0, 0, 0, ..., 0, 0, 0],\n",
       "       [0, 0, 0, ..., 0, 0, 0]])"
      ]
     },
     "execution_count": 39,
     "metadata": {},
     "output_type": "execute_result"
    }
   ],
   "source": [
    "cv.fit_transform(new_df['overview']).toarray()"
   ]
  },
  {
   "cell_type": "code",
   "execution_count": 40,
   "id": "12a2d95c-1dad-428e-b697-7f9dc23393a5",
   "metadata": {},
   "outputs": [
    {
     "data": {
      "text/plain": [
       "(8560, 5000)"
      ]
     },
     "execution_count": 40,
     "metadata": {},
     "output_type": "execute_result"
    }
   ],
   "source": [
    "cv.fit_transform(new_df['overview']).toarray().shape"
   ]
  },
  {
   "cell_type": "code",
   "execution_count": 41,
   "id": "ec5042d3-a8c7-4591-a0b4-94a044b0b598",
   "metadata": {},
   "outputs": [],
   "source": [
    "vectors = cv.fit_transform(new_df['overview']).toarray()"
   ]
  },
  {
   "cell_type": "code",
   "execution_count": 42,
   "id": "f8d2c7e1-9690-4b69-b13c-fdfa80160a93",
   "metadata": {},
   "outputs": [
    {
     "data": {
      "text/plain": [
       "array([[0, 0, 0, ..., 0, 0, 0],\n",
       "       [0, 0, 0, ..., 0, 0, 0],\n",
       "       [0, 0, 0, ..., 0, 0, 0],\n",
       "       ...,\n",
       "       [0, 0, 0, ..., 0, 0, 0],\n",
       "       [0, 0, 0, ..., 0, 0, 0],\n",
       "       [0, 0, 0, ..., 0, 0, 0]])"
      ]
     },
     "execution_count": 42,
     "metadata": {},
     "output_type": "execute_result"
    }
   ],
   "source": [
    "vectors"
   ]
  },
  {
   "cell_type": "code",
   "execution_count": 43,
   "id": "b9aaa867-e9b9-4c1f-9690-381341f24b49",
   "metadata": {},
   "outputs": [
    {
     "data": {
      "text/plain": [
       "array([0, 0, 0, ..., 0, 0, 0])"
      ]
     },
     "execution_count": 43,
     "metadata": {},
     "output_type": "execute_result"
    }
   ],
   "source": [
    "vectors[0]"
   ]
  },
  {
   "cell_type": "code",
   "execution_count": 44,
   "id": "24369153-20da-4a38-9665-978f59216128",
   "metadata": {},
   "outputs": [
    {
     "data": {
      "text/plain": [
       "array(['000', '10', '100', ..., 'zombies', 'zone', 'zoo'], dtype=object)"
      ]
     },
     "execution_count": 44,
     "metadata": {},
     "output_type": "execute_result"
    }
   ],
   "source": [
    "cv.get_feature_names_out()"
   ]
  },
  {
   "cell_type": "code",
   "execution_count": 45,
   "id": "55cb6aa7-51f8-4f99-99dd-696c909c9f0f",
   "metadata": {},
   "outputs": [
    {
     "data": {
      "text/plain": [
       "5000"
      ]
     },
     "execution_count": 45,
     "metadata": {},
     "output_type": "execute_result"
    }
   ],
   "source": [
    "len(cv.get_feature_names_out())"
   ]
  },
  {
   "cell_type": "code",
   "execution_count": null,
   "id": "6ddc3d7f-e0ed-4253-a6af-46d780636f5a",
   "metadata": {},
   "outputs": [],
   "source": []
  }
 ],
 "metadata": {
  "kernelspec": {
   "display_name": "Python 3 (ipykernel)",
   "language": "python",
   "name": "python3"
  },
  "language_info": {
   "codemirror_mode": {
    "name": "ipython",
    "version": 3
   },
   "file_extension": ".py",
   "mimetype": "text/x-python",
   "name": "python",
   "nbconvert_exporter": "python",
   "pygments_lexer": "ipython3",
   "version": "3.11.0"
  }
 },
 "nbformat": 4,
 "nbformat_minor": 5
}
